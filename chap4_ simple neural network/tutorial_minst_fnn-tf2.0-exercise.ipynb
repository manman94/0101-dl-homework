{
 "cells": [
  {
   "cell_type": "markdown",
   "metadata": {},
   "source": [
    "## 准备数据"
   ]
  },
  {
   "cell_type": "code",
   "execution_count": 6,
   "metadata": {},
   "outputs": [],
   "source": [
    "import os\n",
    "import numpy as np\n",
    "import tensorflow as tf\n",
    "from tensorflow import keras\n",
    "from tensorflow.keras import layers, optimizers, datasets\n",
    "\n",
    "os.environ['TF_CPP_MIN_LOG_LEVEL'] = '2'  # or any {'0', '1', '2'}\n",
    "\n",
    "def mnist_dataset():\n",
    "    (x, y), (x_test, y_test) = datasets.mnist.load_data()\n",
    "    #normalize\n",
    "    x = x/255.0\n",
    "    x_test = x_test/255.0\n",
    "    \n",
    "    return (x, y), (x_test, y_test)"
   ]
  },
  {
   "cell_type": "code",
   "execution_count": 7,
   "metadata": {},
   "outputs": [
    {
     "name": "stdout",
     "output_type": "stream",
     "text": [
      "[(1, 'a'), (2, 'b'), (3, 'c'), (4, 'd')]\n",
      "(60000, 28, 28)\n",
      "(60000,)\n"
     ]
    }
   ],
   "source": [
    "print(list(zip([1, 2, 3, 4], ['a', 'b', 'c', 'd'])))\n",
    "(x, y), (x_test, y_test) = mnist_dataset()\n",
    "print(x.shape)\n",
    "print(y.shape)"
   ]
  },
  {
   "cell_type": "markdown",
   "metadata": {},
   "source": [
    "## 建立模型"
   ]
  },
  {
   "cell_type": "code",
   "execution_count": 8,
   "metadata": {},
   "outputs": [],
   "source": [
    "class myModel:\n",
    "    def __init__(self):\n",
    "        ####################\n",
    "        '''声明模型对应的参数'''\n",
    "        ####################\n",
    "        # 搭建MLP，用张量搭建各个层\n",
    "        # 展平层无参数\n",
    "\n",
    "        # 两个全连接层的参数，x 28*28\n",
    "        self.W1 = tf.Variable(tf.random.normal(shape=[28*28, 100]))\n",
    "        self.W2 = tf.Variable(tf.random.normal(shape=[100, 10]))\n",
    "        self.b1 = tf.Variable(tf.ones([100]))\n",
    "        self.b2 = tf.Variable(tf.ones([10]))\n",
    "\n",
    "        # 激活函数无参数\n",
    "\n",
    "        # # 搭建MLP，调用keras的层\n",
    "        # self.flatten = layers.Flatten()\n",
    "        # self.dense1 = layers.Dense(100, activation='relu')\n",
    "        # self.dense2 = layers.Dense(10)\n",
    "        \n",
    "    def __call__(self, x):\n",
    "        ####################\n",
    "        '''实现模型函数体，返回未归一化的logits'''\n",
    "        ####################\n",
    "        # 一维展平\n",
    "        reshape_x = tf.reshape(x, [x.shape[0], x.shape[1] * x.shape[2]])   # 60000*784\n",
    "        # 全连接层 + relu函数 \n",
    "        out1 = tf.matmul(reshape_x, self.W1)   # 60000*100\n",
    "        out1 = out1 + self.b1   # 60000*100\n",
    "        out1 = tf.nn.relu(out1)   # 60000*100\n",
    "        # out1 = tf.nn.relu(out1)   # 60000*100\n",
    "        # 全连接层 + relu函数 \n",
    "        out2 = tf.matmul(out1, self.W2)   # 60000*10\n",
    "        out2 = out2 + self.b2   # 60000*10\n",
    "        # softmax\n",
    "        # logits = tf.nn.softmax(out2)   # 60000*10\n",
    "        logits = out2\n",
    "\n",
    "        # logits = self.flatten(x)   # 60000*784\n",
    "        # print('logits.shape=', logits.shape)\n",
    "        # logits = self.dense1(logits)   # 60000*100\n",
    "        # print('logits.shape=', logits.shape)\n",
    "        # logits = self.dense2(logits)   # 60000*10\n",
    "        # print('logits.shape=', logits.shape)\n",
    "        # logits = tf.nn.softmax(logits)   # 60000*10\n",
    "        # print('logits.shape=', logits.shape)\n",
    "        \n",
    "        return logits\n",
    "        \n",
    "model = myModel()\n",
    "\n",
    "optimizer = optimizers.Adam()"
   ]
  },
  {
   "cell_type": "markdown",
   "metadata": {},
   "source": [
    "## 计算 loss"
   ]
  },
  {
   "cell_type": "code",
   "execution_count": 9,
   "metadata": {},
   "outputs": [],
   "source": [
    "@tf.function\n",
    "def compute_loss(logits, labels):\n",
    "    return tf.reduce_mean(\n",
    "        tf.nn.sparse_softmax_cross_entropy_with_logits(\n",
    "            logits=logits, labels=labels))\n",
    "\n",
    "@tf.function\n",
    "def compute_accuracy(logits, labels):\n",
    "    predictions = tf.argmax(logits, axis=1)\n",
    "    return tf.reduce_mean(tf.cast(tf.equal(predictions, labels), tf.float32))\n",
    "\n",
    "@tf.function\n",
    "def train_one_step(model, optimizer, x, y):\n",
    "    # print('x.shape=',x.shape)   # 60000*28*28\n",
    "    with tf.GradientTape() as tape:\n",
    "        # print('xx.shape=',x.shape)   # 60000*28*28\n",
    "        logits = model(x)\n",
    "        loss = compute_loss(logits, y)\n",
    "\n",
    "    # compute gradient\n",
    "    trainable_vars = [model.W1, model.W2, model.b1, model.b2]\n",
    "    grads = tape.gradient(loss, trainable_vars)\n",
    "    for g, v in zip(grads, trainable_vars):\n",
    "        v.assign_sub(0.01*g)\n",
    "\n",
    "    accuracy = compute_accuracy(logits, y)\n",
    "\n",
    "    # loss and accuracy is scalar tensor\n",
    "    return loss, accuracy\n",
    "\n",
    "@tf.function\n",
    "def test(model, x, y):\n",
    "    logits = model(x)\n",
    "    loss = compute_loss(logits, y)\n",
    "    accuracy = compute_accuracy(logits, y)\n",
    "    return loss, accuracy"
   ]
  },
  {
   "cell_type": "markdown",
   "metadata": {},
   "source": [
    "## 实际训练"
   ]
  },
  {
   "cell_type": "code",
   "execution_count": 10,
   "metadata": {},
   "outputs": [
    {
     "name": "stdout",
     "output_type": "stream",
     "text": [
      "epoch 0 : loss 87.3484 ; accuracy 0.112733334\n",
      "epoch 1 : loss 82.321465 ; accuracy 0.113416664\n",
      "epoch 2 : loss 78.15255 ; accuracy 0.115433335\n",
      "epoch 3 : loss 74.46752 ; accuracy 0.11841667\n",
      "epoch 4 : loss 71.11992 ; accuracy 0.1221\n",
      "epoch 5 : loss 68.05403 ; accuracy 0.1258\n",
      "epoch 6 : loss 65.237206 ; accuracy 0.1306\n",
      "epoch 7 : loss 62.655758 ; accuracy 0.13588333\n",
      "epoch 8 : loss 60.30289 ; accuracy 0.14091666\n",
      "epoch 9 : loss 58.171047 ; accuracy 0.14575\n",
      "epoch 10 : loss 56.247475 ; accuracy 0.15083334\n",
      "epoch 11 : loss 54.510757 ; accuracy 0.15703334\n",
      "epoch 12 : loss 52.94744 ; accuracy 0.16378333\n",
      "epoch 13 : loss 51.535225 ; accuracy 0.17025\n",
      "epoch 14 : loss 50.24822 ; accuracy 0.17586666\n",
      "epoch 15 : loss 49.066525 ; accuracy 0.18131667\n",
      "epoch 16 : loss 47.972134 ; accuracy 0.18556666\n",
      "epoch 17 : loss 46.94953 ; accuracy 0.1907\n",
      "epoch 18 : loss 45.9888 ; accuracy 0.1958\n",
      "epoch 19 : loss 45.081608 ; accuracy 0.20081666\n",
      "epoch 20 : loss 44.22001 ; accuracy 0.20623334\n",
      "epoch 21 : loss 43.39855 ; accuracy 0.21131666\n",
      "epoch 22 : loss 42.61271 ; accuracy 0.21566667\n",
      "epoch 23 : loss 41.858173 ; accuracy 0.22006667\n",
      "epoch 24 : loss 41.131565 ; accuracy 0.22466667\n",
      "epoch 25 : loss 40.430225 ; accuracy 0.22936666\n",
      "epoch 26 : loss 39.75198 ; accuracy 0.23365\n",
      "epoch 27 : loss 39.095154 ; accuracy 0.23845\n",
      "epoch 28 : loss 38.458633 ; accuracy 0.24343333\n",
      "epoch 29 : loss 37.84133 ; accuracy 0.24785\n",
      "epoch 30 : loss 37.2424 ; accuracy 0.2526\n",
      "epoch 31 : loss 36.660873 ; accuracy 0.25718334\n",
      "epoch 32 : loss 36.0962 ; accuracy 0.26146665\n",
      "epoch 33 : loss 35.548126 ; accuracy 0.2662\n",
      "epoch 34 : loss 35.016293 ; accuracy 0.27083334\n",
      "epoch 35 : loss 34.500084 ; accuracy 0.27606666\n",
      "epoch 36 : loss 33.998856 ; accuracy 0.28008333\n",
      "epoch 37 : loss 33.511654 ; accuracy 0.28433332\n",
      "epoch 38 : loss 33.037876 ; accuracy 0.28843334\n",
      "epoch 39 : loss 32.57751 ; accuracy 0.29321668\n",
      "epoch 40 : loss 32.130405 ; accuracy 0.29796666\n",
      "epoch 41 : loss 31.695932 ; accuracy 0.30198333\n",
      "epoch 42 : loss 31.273413 ; accuracy 0.3062\n",
      "epoch 43 : loss 30.862427 ; accuracy 0.3101\n",
      "epoch 44 : loss 30.462746 ; accuracy 0.31445\n",
      "epoch 45 : loss 30.073988 ; accuracy 0.31848332\n",
      "epoch 46 : loss 29.69571 ; accuracy 0.32285\n",
      "epoch 47 : loss 29.327518 ; accuracy 0.32698333\n",
      "epoch 48 : loss 28.969141 ; accuracy 0.33115\n",
      "epoch 49 : loss 28.62025 ; accuracy 0.335\n",
      "test loss 27.651752 ; accuracy 0.337\n"
     ]
    }
   ],
   "source": [
    "train_data, test_data = mnist_dataset()\n",
    "for epoch in range(50):\n",
    "    loss, accuracy = train_one_step(model, optimizer, \n",
    "                                    tf.constant(train_data[0], dtype=tf.float32), \n",
    "                                    tf.constant(train_data[1], dtype=tf.int64))\n",
    "    print('epoch', epoch, ': loss', loss.numpy(), '; accuracy', accuracy.numpy())\n",
    "loss, accuracy = test(model, \n",
    "                      tf.constant(test_data[0], dtype=tf.float32), \n",
    "                      tf.constant(test_data[1], dtype=tf.int64))\n",
    "\n",
    "print('test loss', loss.numpy(), '; accuracy', accuracy.numpy())"
   ]
  }
 ],
 "metadata": {
  "kernelspec": {
   "display_name": "Python 3",
   "language": "python",
   "name": "python3"
  },
  "language_info": {
   "codemirror_mode": {
    "name": "ipython",
    "version": 3
   },
   "file_extension": ".py",
   "mimetype": "text/x-python",
   "name": "python",
   "nbconvert_exporter": "python",
   "pygments_lexer": "ipython3",
   "version": "3.12.2"
  }
 },
 "nbformat": 4,
 "nbformat_minor": 2
}
